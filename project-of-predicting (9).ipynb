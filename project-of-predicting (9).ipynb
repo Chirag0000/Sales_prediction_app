{
 "cells": [
  {
   "cell_type": "code",
   "execution_count": 1,
   "metadata": {
    "_cell_guid": "b1076dfc-b9ad-4769-8c92-a6c4dae69d19",
    "_uuid": "8f2839f25d086af736a60e9eeb907d3b93b6e0e5",
    "execution": {
     "iopub.execute_input": "2022-02-22T17:39:09.667081Z",
     "iopub.status.busy": "2022-02-22T17:39:09.666794Z",
     "iopub.status.idle": "2022-02-22T17:39:09.678320Z",
     "shell.execute_reply": "2022-02-22T17:39:09.677466Z",
     "shell.execute_reply.started": "2022-02-22T17:39:09.667051Z"
    }
   },
   "outputs": [],
   "source": [
    "# This Python 3 environment comes with many helpful analytics libraries installed\n",
    "# It is defined by the kaggle/python Docker image: https://github.com/kaggle/docker-python\n",
    "# For example, here's several helpful packages to load\n",
    "\n",
    "import numpy as np # linear algebra\n",
    "import pandas as pd # data processing, CSV file I/O (e.g. pd.read_csv)\n",
    "import matplotlib.pyplot as plt\n",
    "import seaborn as sns\n",
    "from statsmodels.tsa.stattools import adfuller\n",
    "\n",
    "# Input data files are available in the read-only \"../input/\" directory\n",
    "# For example, running this (by clicking run or pressing Shift+Enter) will list all files under the input directory\n",
    "\n",
    "import os\n",
    "for dirname, _, filenames in os.walk('/kaggle/input'):\n",
    "    for filename in filenames:\n",
    "        print(os.path.join(dirname, filename))\n",
    "\n",
    "# You can write up to 20GB to the current directory (/kaggle/working/) that gets preserved as output when you create a version using \"Save & Run All\" \n",
    "# You can also write temporary files to /kaggle/temp/, but they won't be saved outside of the current session"
   ]
  },
  {
   "cell_type": "code",
   "execution_count": 2,
   "metadata": {},
   "outputs": [
    {
     "name": "stdout",
     "output_type": "stream",
     "text": [
      "Collecting xgboost\n",
      "  Using cached xgboost-1.5.2-py3-none-win_amd64.whl (106.6 MB)\n",
      "Requirement already satisfied: numpy in c:\\users\\91704\\anaconda3\\lib\\site-packages (from xgboost) (1.19.2)\n",
      "Requirement already satisfied: scipy in c:\\users\\91704\\anaconda3\\lib\\site-packages (from xgboost) (1.5.2)\n",
      "Installing collected packages: xgboost\n",
      "Successfully installed xgboost-1.5.2\n",
      "Note: you may need to restart the kernel to use updated packages.\n"
     ]
    }
   ],
   "source": [
    "pip install xgboost"
   ]
  },
  {
   "cell_type": "code",
   "execution_count": 3,
   "metadata": {
    "execution": {
     "iopub.execute_input": "2022-02-22T17:39:09.680635Z",
     "iopub.status.busy": "2022-02-22T17:39:09.680124Z",
     "iopub.status.idle": "2022-02-22T17:39:11.767103Z",
     "shell.execute_reply": "2022-02-22T17:39:11.766215Z",
     "shell.execute_reply.started": "2022-02-22T17:39:09.680590Z"
    }
   },
   "outputs": [],
   "source": [
    "sales_data = pd.read_csv('sales_train.csv')\n",
    "item_cat = pd.read_csv('item_categories.csv')\n",
    "items = pd.read_csv('items.csv')\n",
    "shops = pd.read_csv('shops.csv')\n",
    "sample_submission = pd.read_csv('sample_submission.csv')\n",
    "test_data = pd.read_csv('test.csv')\n"
   ]
  },
  {
   "cell_type": "code",
   "execution_count": 57,
   "metadata": {
    "execution": {
     "iopub.execute_input": "2022-02-22T17:39:11.768866Z",
     "iopub.status.busy": "2022-02-22T17:39:11.768636Z",
     "iopub.status.idle": "2022-02-22T17:39:11.788424Z",
     "shell.execute_reply": "2022-02-22T17:39:11.787236Z",
     "shell.execute_reply.started": "2022-02-22T17:39:11.768839Z"
    }
   },
   "outputs": [],
   "source": [
    "sales_data.head(20)"
   ]
  },
  {
   "cell_type": "code",
   "execution_count": 58,
   "metadata": {
    "execution": {
     "iopub.execute_input": "2022-02-22T17:39:11.790163Z",
     "iopub.status.busy": "2022-02-22T17:39:11.789851Z",
     "iopub.status.idle": "2022-02-22T17:39:11.800851Z",
     "shell.execute_reply": "2022-02-22T17:39:11.800009Z",
     "shell.execute_reply.started": "2022-02-22T17:39:11.790120Z"
    }
   },
   "outputs": [],
   "source": [
    "print(sales_data.shape)"
   ]
  },
  {
   "cell_type": "code",
   "execution_count": 59,
   "metadata": {
    "execution": {
     "iopub.execute_input": "2022-02-22T17:39:11.804129Z",
     "iopub.status.busy": "2022-02-22T17:39:11.803589Z",
     "iopub.status.idle": "2022-02-22T17:39:11.827034Z",
     "shell.execute_reply": "2022-02-22T17:39:11.826158Z",
     "shell.execute_reply.started": "2022-02-22T17:39:11.804069Z"
    }
   },
   "outputs": [],
   "source": [
    "sales_data.tail(20)"
   ]
  },
  {
   "cell_type": "code",
   "execution_count": 60,
   "metadata": {
    "execution": {
     "iopub.execute_input": "2022-02-22T17:39:11.828321Z",
     "iopub.status.busy": "2022-02-22T17:39:11.828101Z",
     "iopub.status.idle": "2022-02-22T17:39:11.844921Z",
     "shell.execute_reply": "2022-02-22T17:39:11.843939Z",
     "shell.execute_reply.started": "2022-02-22T17:39:11.828294Z"
    }
   },
   "outputs": [],
   "source": [
    "sales_data.dtypes"
   ]
  },
  {
   "cell_type": "markdown",
   "metadata": {},
   "source": [
    "**From above Table it can be said that data is from 2013 to 2015.**"
   ]
  },
  {
   "cell_type": "code",
   "execution_count": 61,
   "metadata": {
    "execution": {
     "iopub.execute_input": "2022-02-22T17:39:11.846957Z",
     "iopub.status.busy": "2022-02-22T17:39:11.846247Z",
     "iopub.status.idle": "2022-02-22T17:39:12.767737Z",
     "shell.execute_reply": "2022-02-22T17:39:12.766710Z",
     "shell.execute_reply.started": "2022-02-22T17:39:11.846903Z"
    }
   },
   "outputs": [],
   "source": [
    "sales_data[\"date\"]= pd.to_datetime(sales_data[\"date\"], format='%d.%m.%Y')\n",
    "sales_data.sort_values(by=\"date\", ascending=True, inplace=True)\n",
    "print(sales_data)"
   ]
  },
  {
   "cell_type": "code",
   "execution_count": 62,
   "metadata": {
    "execution": {
     "iopub.execute_input": "2022-02-22T17:39:12.769206Z",
     "iopub.status.busy": "2022-02-22T17:39:12.768969Z",
     "iopub.status.idle": "2022-02-22T17:39:13.237321Z",
     "shell.execute_reply": "2022-02-22T17:39:13.236266Z",
     "shell.execute_reply.started": "2022-02-22T17:39:12.769176Z"
    }
   },
   "outputs": [],
   "source": [
    "sales_data.describe()"
   ]
  },
  {
   "cell_type": "code",
   "execution_count": 63,
   "metadata": {
    "execution": {
     "iopub.execute_input": "2022-02-22T17:39:13.239401Z",
     "iopub.status.busy": "2022-02-22T17:39:13.238740Z",
     "iopub.status.idle": "2022-02-22T17:39:13.279487Z",
     "shell.execute_reply": "2022-02-22T17:39:13.278356Z",
     "shell.execute_reply.started": "2022-02-22T17:39:13.239361Z"
    }
   },
   "outputs": [],
   "source": [
    "sales_data.item_cnt_day.unique()"
   ]
  },
  {
   "cell_type": "code",
   "execution_count": 64,
   "metadata": {
    "execution": {
     "iopub.execute_input": "2022-02-22T17:39:13.281175Z",
     "iopub.status.busy": "2022-02-22T17:39:13.280906Z",
     "iopub.status.idle": "2022-02-22T17:39:13.290724Z",
     "shell.execute_reply": "2022-02-22T17:39:13.289826Z",
     "shell.execute_reply.started": "2022-02-22T17:39:13.281145Z"
    }
   },
   "outputs": [],
   "source": [
    "sales_data.item_cnt_day.max()"
   ]
  },
  {
   "cell_type": "code",
   "execution_count": 65,
   "metadata": {
    "execution": {
     "iopub.execute_input": "2022-02-22T17:39:13.293798Z",
     "iopub.status.busy": "2022-02-22T17:39:13.293543Z",
     "iopub.status.idle": "2022-02-22T17:39:13.304112Z",
     "shell.execute_reply": "2022-02-22T17:39:13.303160Z",
     "shell.execute_reply.started": "2022-02-22T17:39:13.293769Z"
    }
   },
   "outputs": [],
   "source": [
    "sales_data.item_cnt_day.min()"
   ]
  },
  {
   "cell_type": "code",
   "execution_count": 66,
   "metadata": {
    "execution": {
     "iopub.execute_input": "2022-02-22T17:39:13.305809Z",
     "iopub.status.busy": "2022-02-22T17:39:13.305441Z",
     "iopub.status.idle": "2022-02-22T17:39:13.836206Z",
     "shell.execute_reply": "2022-02-22T17:39:13.835566Z",
     "shell.execute_reply.started": "2022-02-22T17:39:13.305776Z"
    }
   },
   "outputs": [],
   "source": [
    "sales_data[\"Year\"] = sales_data[\"date\"].dt.year\n",
    "sales_data[\"Month\"] = sales_data[\"date\"].dt.month"
   ]
  },
  {
   "cell_type": "code",
   "execution_count": 67,
   "metadata": {
    "execution": {
     "iopub.execute_input": "2022-02-22T17:39:13.838156Z",
     "iopub.status.busy": "2022-02-22T17:39:13.837657Z",
     "iopub.status.idle": "2022-02-22T17:39:36.730711Z",
     "shell.execute_reply": "2022-02-22T17:39:36.729792Z",
     "shell.execute_reply.started": "2022-02-22T17:39:13.838111Z"
    }
   },
   "outputs": [],
   "source": [
    "sales_data['Month']=[d.strftime('%b') for d in sales_data.date]\n",
    "print(sales_data)"
   ]
  },
  {
   "cell_type": "code",
   "execution_count": 68,
   "metadata": {
    "execution": {
     "iopub.execute_input": "2022-02-22T17:39:36.732307Z",
     "iopub.status.busy": "2022-02-22T17:39:36.732040Z",
     "iopub.status.idle": "2022-02-22T17:39:36.755825Z",
     "shell.execute_reply": "2022-02-22T17:39:36.755189Z",
     "shell.execute_reply.started": "2022-02-22T17:39:36.732253Z"
    }
   },
   "outputs": [],
   "source": [
    "sales_data['Sales_per_item'] = sales_data['item_cnt_day'] * sales_data['item_price']\n",
    "print(sales_data)"
   ]
  },
  {
   "cell_type": "code",
   "execution_count": 69,
   "metadata": {
    "execution": {
     "iopub.execute_input": "2022-02-22T17:39:36.757321Z",
     "iopub.status.busy": "2022-02-22T17:39:36.756775Z",
     "iopub.status.idle": "2022-02-22T17:39:36.839207Z",
     "shell.execute_reply": "2022-02-22T17:39:36.838447Z",
     "shell.execute_reply.started": "2022-02-22T17:39:36.757262Z"
    }
   },
   "outputs": [],
   "source": [
    "sales_data['item_category_id']=item_cat['item_category_id']\n",
    "sales_data"
   ]
  },
  {
   "cell_type": "code",
   "execution_count": 70,
   "metadata": {
    "execution": {
     "iopub.execute_input": "2022-02-22T17:39:36.840609Z",
     "iopub.status.busy": "2022-02-22T17:39:36.840309Z",
     "iopub.status.idle": "2022-02-22T17:40:18.742321Z",
     "shell.execute_reply": "2022-02-22T17:40:18.741434Z",
     "shell.execute_reply.started": "2022-02-22T17:39:36.840579Z"
    }
   },
   "outputs": [],
   "source": [
    "fig,axes = plt.subplots(1,1,figsize=(7,7))\n",
    "sns.lineplot(x=sales_data['Year'],y=sales_data['item_cnt_day'])\n",
    "plt.show()"
   ]
  },
  {
   "cell_type": "code",
   "execution_count": 71,
   "metadata": {
    "execution": {
     "iopub.execute_input": "2022-02-22T17:40:18.744737Z",
     "iopub.status.busy": "2022-02-22T17:40:18.744108Z",
     "iopub.status.idle": "2022-02-22T17:40:47.076651Z",
     "shell.execute_reply": "2022-02-22T17:40:47.075977Z",
     "shell.execute_reply.started": "2022-02-22T17:40:18.744686Z"
    }
   },
   "outputs": [],
   "source": [
    "fig,axes = plt.subplots(1,1,figsize=(7,7))\n",
    "sns.lineplot(x=sales_data['Month'],y=sales_data['item_cnt_day'])\n",
    "plt.show()"
   ]
  },
  {
   "cell_type": "code",
   "execution_count": 72,
   "metadata": {
    "execution": {
     "iopub.execute_input": "2022-02-22T17:40:47.079111Z",
     "iopub.status.busy": "2022-02-22T17:40:47.078097Z",
     "iopub.status.idle": "2022-02-22T17:41:30.314687Z",
     "shell.execute_reply": "2022-02-22T17:41:30.313936Z",
     "shell.execute_reply.started": "2022-02-22T17:40:47.079062Z"
    }
   },
   "outputs": [],
   "source": [
    "fig,axes = plt.subplots(1,1,figsize=(7,7))\n",
    "sns.lineplot(x=sales_data['Year'],y=sales_data['Sales_per_item'])\n",
    "plt.show()"
   ]
  },
  {
   "cell_type": "markdown",
   "metadata": {},
   "source": [
    "# How much item is sold by each shop\n"
   ]
  },
  {
   "cell_type": "code",
   "execution_count": 73,
   "metadata": {
    "execution": {
     "iopub.execute_input": "2022-02-22T17:41:30.317001Z",
     "iopub.status.busy": "2022-02-22T17:41:30.316445Z",
     "iopub.status.idle": "2022-02-22T17:41:31.436979Z",
     "shell.execute_reply": "2022-02-22T17:41:31.436064Z",
     "shell.execute_reply.started": "2022-02-22T17:41:30.316956Z"
    }
   },
   "outputs": [],
   "source": [
    "shop_sum=sales_data.groupby(['shop_id'], as_index=False)['item_cnt_day'].sum()\n",
    "fig, axes = plt.subplots(1,1,figsize = (20, 8))\n",
    "sns.barplot(x=\"shop_id\",y=\"item_cnt_day\", data=shop_sum)\n",
    "plt.show()"
   ]
  },
  {
   "cell_type": "markdown",
   "metadata": {},
   "source": [
    "# Category-wise selling"
   ]
  },
  {
   "cell_type": "code",
   "execution_count": 74,
   "metadata": {
    "execution": {
     "iopub.execute_input": "2022-02-22T17:41:31.440691Z",
     "iopub.status.busy": "2022-02-22T17:41:31.438171Z",
     "iopub.status.idle": "2022-02-22T17:41:32.686137Z",
     "shell.execute_reply": "2022-02-22T17:41:32.685233Z",
     "shell.execute_reply.started": "2022-02-22T17:41:31.440647Z"
    }
   },
   "outputs": [],
   "source": [
    "Category_sum=sales_data.groupby(['item_category_id'], as_index=False)['item_cnt_day'].sum()\n",
    "fig, axes = plt.subplots(1,1,figsize = (35,8))\n",
    "sns.barplot(x=\"item_category_id\",y=\"item_cnt_day\", data=Category_sum)\n",
    "plt.show()"
   ]
  },
  {
   "cell_type": "code",
   "execution_count": 75,
   "metadata": {
    "execution": {
     "iopub.execute_input": "2022-02-22T17:41:32.688194Z",
     "iopub.status.busy": "2022-02-22T17:41:32.687770Z",
     "iopub.status.idle": "2022-02-22T17:41:33.935989Z",
     "shell.execute_reply": "2022-02-22T17:41:33.935034Z",
     "shell.execute_reply.started": "2022-02-22T17:41:32.688144Z"
    }
   },
   "outputs": [],
   "source": [
    "Category_sum=sales_data.groupby(['item_category_id'], as_index=False)['Sales_per_item'].sum()\n",
    "fig, axes = plt.subplots(1,1,figsize = (35,8))\n",
    "sns.barplot(x=\"item_category_id\",y=\"Sales_per_item\", data=Category_sum)\n",
    "plt.show()"
   ]
  },
  {
   "cell_type": "code",
   "execution_count": 76,
   "metadata": {
    "execution": {
     "iopub.execute_input": "2022-02-22T17:41:33.937879Z",
     "iopub.status.busy": "2022-02-22T17:41:33.937464Z",
     "iopub.status.idle": "2022-02-22T17:41:34.187146Z",
     "shell.execute_reply": "2022-02-22T17:41:34.186234Z",
     "shell.execute_reply.started": "2022-02-22T17:41:33.937835Z"
    }
   },
   "outputs": [],
   "source": [
    "sales_data_tmp=sales_data[['date_block_num','shop_id','item_cnt_day']]\n",
    "dt = pd.pivot_table(index='date_block_num',data=sales_data_tmp,columns='shop_id', aggfunc='sum')\n",
    "dt = dt.item_cnt_day\n",
    "dt.columns.name = 'No. of Shops'\n",
    "dt.index.name='No. of Months'\n",
    "dt.fillna(0, inplace=True)\n",
    "dt"
   ]
  },
  {
   "cell_type": "markdown",
   "metadata": {},
   "source": [
    "# The Above table shows the monthly sales of different shops."
   ]
  },
  {
   "cell_type": "code",
   "execution_count": 77,
   "metadata": {
    "execution": {
     "iopub.execute_input": "2022-02-22T17:41:34.188988Z",
     "iopub.status.busy": "2022-02-22T17:41:34.188687Z",
     "iopub.status.idle": "2022-02-22T17:41:35.749155Z",
     "shell.execute_reply": "2022-02-22T17:41:35.748109Z",
     "shell.execute_reply.started": "2022-02-22T17:41:34.188949Z"
    }
   },
   "outputs": [],
   "source": [
    "fig,axes = plt.subplots(2,1,figsize=(24,9))\n",
    "\n",
    "\n",
    "sales_data_tmp = sales_data[['Year','Month','item_cnt_day']].pivot_table(index=['Month'],columns=['Year'],aggfunc={\"item_cnt_day\":np.sum})\n",
    "axes[0].plot(sales_data_tmp)\n",
    "axes[0].set_title('Total no of units sold')\n",
    "axes[0].legend(labels=[i[1] for i in sales_data_tmp.columns])\n",
    "plt.suptitle('Monthly Sales',fontsize=\"28\")\n",
    "plt.show()\n",
    "\n",
    "sales_data_tmp = sales_data[['Year','Month','Sales_per_item']].pivot_table(index=['Month'],columns=['Year'],aggfunc={\"Sales_per_item\":np.sum})\n",
    "axes[0].plot(sales_data_tmp)\n",
    "axes[0].set_title('Total Sales')\n",
    "axes[0].legend(labels=[i[1] for i in sales_data_tmp.columns])\n",
    "plt.suptitle('Monthly Sales',fontsize=\"28\")\n",
    "plt.show()\n",
    "\n",
    "\n",
    "#When I change the subplot to 1,1 there is an error"
   ]
  },
  {
   "cell_type": "code",
   "execution_count": 78,
   "metadata": {
    "execution": {
     "iopub.execute_input": "2022-02-22T17:41:35.751349Z",
     "iopub.status.busy": "2022-02-22T17:41:35.751007Z",
     "iopub.status.idle": "2022-02-22T17:41:36.522331Z",
     "shell.execute_reply": "2022-02-22T17:41:36.521358Z",
     "shell.execute_reply.started": "2022-02-22T17:41:35.751305Z"
    }
   },
   "outputs": [],
   "source": [
    "fig,axes = plt.subplots(2,1,figsize=(24,9))\n",
    "\n",
    "sales_data_tmp = sales_data[['Year','Month','Sales_per_item']].pivot_table(index=['Month'],columns=['Year'],aggfunc={\"Sales_per_item\":np.sum})\n",
    "axes[0].plot(sales_data_tmp)\n",
    "axes[0].set_title('Total no of units sold')\n",
    "axes[0].legend(labels=[i[1] for i in sales_data_tmp.columns])\n",
    "plt.suptitle('Monthly Sales',fontsize=\"28\")\n",
    "plt.show()\n"
   ]
  },
  {
   "cell_type": "markdown",
   "metadata": {},
   "source": [
    "**Various ways are there to check the stationarity of data:-\n",
    "1)Through Visualization\n",
    "2)Dickey Fuller Test\n",
    "3) Constant Mean and Variance**"
   ]
  },
  {
   "cell_type": "code",
   "execution_count": 79,
   "metadata": {
    "execution": {
     "iopub.execute_input": "2022-02-22T17:41:36.523873Z",
     "iopub.status.busy": "2022-02-22T17:41:36.523631Z",
     "iopub.status.idle": "2022-02-22T17:41:36.532034Z",
     "shell.execute_reply": "2022-02-22T17:41:36.531323Z",
     "shell.execute_reply.started": "2022-02-22T17:41:36.523842Z"
    }
   },
   "outputs": [],
   "source": [
    "s=pd.Series(sales_data.item_cnt_day)\n",
    "s1=s[0:70000]\n",
    "s2=s[70001:140000]\n",
    "s3=s[140001:200000]\n",
    "print(s3)"
   ]
  },
  {
   "cell_type": "code",
   "execution_count": 80,
   "metadata": {
    "execution": {
     "iopub.execute_input": "2022-02-22T17:41:36.533758Z",
     "iopub.status.busy": "2022-02-22T17:41:36.533381Z",
     "iopub.status.idle": "2022-02-22T17:41:48.131172Z",
     "shell.execute_reply": "2022-02-22T17:41:48.130178Z",
     "shell.execute_reply.started": "2022-02-22T17:41:36.533716Z"
    }
   },
   "outputs": [],
   "source": [
    "ad_test=adfuller(s3)"
   ]
  },
  {
   "cell_type": "code",
   "execution_count": 81,
   "metadata": {
    "execution": {
     "iopub.execute_input": "2022-02-22T17:41:48.133584Z",
     "iopub.status.busy": "2022-02-22T17:41:48.132977Z",
     "iopub.status.idle": "2022-02-22T17:41:48.141889Z",
     "shell.execute_reply": "2022-02-22T17:41:48.140860Z",
     "shell.execute_reply.started": "2022-02-22T17:41:48.133527Z"
    }
   },
   "outputs": [],
   "source": [
    "ad_test[0]"
   ]
  },
  {
   "cell_type": "code",
   "execution_count": 82,
   "metadata": {
    "execution": {
     "iopub.execute_input": "2022-02-22T17:41:48.144501Z",
     "iopub.status.busy": "2022-02-22T17:41:48.143928Z",
     "iopub.status.idle": "2022-02-22T17:41:48.161151Z",
     "shell.execute_reply": "2022-02-22T17:41:48.159916Z",
     "shell.execute_reply.started": "2022-02-22T17:41:48.144449Z"
    }
   },
   "outputs": [],
   "source": [
    "ad_test[1]"
   ]
  },
  {
   "cell_type": "code",
   "execution_count": 83,
   "metadata": {
    "execution": {
     "iopub.execute_input": "2022-02-22T17:41:48.172491Z",
     "iopub.status.busy": "2022-02-22T17:41:48.171807Z",
     "iopub.status.idle": "2022-02-22T17:41:48.183949Z",
     "shell.execute_reply": "2022-02-22T17:41:48.182855Z",
     "shell.execute_reply.started": "2022-02-22T17:41:48.172402Z"
    }
   },
   "outputs": [],
   "source": [
    "x=sales_data['item_cnt_day']\n",
    "print(x)"
   ]
  },
  {
   "cell_type": "code",
   "execution_count": 84,
   "metadata": {
    "execution": {
     "iopub.execute_input": "2022-02-22T17:41:48.187116Z",
     "iopub.status.busy": "2022-02-22T17:41:48.186314Z",
     "iopub.status.idle": "2022-02-22T17:41:48.202711Z",
     "shell.execute_reply": "2022-02-22T17:41:48.201658Z",
     "shell.execute_reply.started": "2022-02-22T17:41:48.187061Z"
    }
   },
   "outputs": [],
   "source": [
    "item_cnt_day_detrend=x.diff()"
   ]
  },
  {
   "cell_type": "code",
   "execution_count": 85,
   "metadata": {
    "execution": {
     "iopub.execute_input": "2022-02-22T17:41:48.205050Z",
     "iopub.status.busy": "2022-02-22T17:41:48.204493Z",
     "iopub.status.idle": "2022-02-22T17:41:49.892922Z",
     "shell.execute_reply": "2022-02-22T17:41:49.891772Z",
     "shell.execute_reply.started": "2022-02-22T17:41:48.204999Z"
    }
   },
   "outputs": [],
   "source": [
    "plt.plot(item_cnt_day_detrend)"
   ]
  },
  {
   "cell_type": "code",
   "execution_count": 86,
   "metadata": {
    "execution": {
     "iopub.execute_input": "2022-02-22T17:41:49.894445Z",
     "iopub.status.busy": "2022-02-22T17:41:49.894159Z",
     "iopub.status.idle": "2022-02-22T17:41:49.925411Z",
     "shell.execute_reply": "2022-02-22T17:41:49.924394Z",
     "shell.execute_reply.started": "2022-02-22T17:41:49.894412Z"
    }
   },
   "outputs": [],
   "source": [
    "sales_data[\"item_cnt_day_detrend\"]=item_cnt_day_detrend\n",
    "sales_data"
   ]
  },
  {
   "cell_type": "code",
   "execution_count": 87,
   "metadata": {
    "execution": {
     "iopub.execute_input": "2022-02-22T17:41:49.926997Z",
     "iopub.status.busy": "2022-02-22T17:41:49.926728Z",
     "iopub.status.idle": "2022-02-22T17:41:49.930836Z",
     "shell.execute_reply": "2022-02-22T17:41:49.930213Z",
     "shell.execute_reply.started": "2022-02-22T17:41:49.926966Z"
    }
   },
   "outputs": [],
   "source": [
    "from statsmodels.tsa.seasonal import seasonal_decompose"
   ]
  },
  {
   "cell_type": "code",
   "execution_count": 88,
   "metadata": {
    "execution": {
     "iopub.execute_input": "2022-02-22T17:41:49.932363Z",
     "iopub.status.busy": "2022-02-22T17:41:49.931808Z",
     "iopub.status.idle": "2022-02-22T17:42:00.990375Z",
     "shell.execute_reply": "2022-02-22T17:42:00.989355Z",
     "shell.execute_reply.started": "2022-02-22T17:41:49.932330Z"
    }
   },
   "outputs": [],
   "source": [
    "\n",
    "sales_data_tmp=sales_data[['date','item_cnt_day']]\n",
    "result_mul = seasonal_decompose(sales_data_tmp['item_cnt_day'],period=8 ,model='additive',extrapolate_trend='freq')\n",
    "\n",
    "deseasonalized = sales_data.item_cnt_day.values / result_mul.seasonal\n",
    "\n",
    "plt.plot(deseasonalized)\n",
    "\n",
    "plt.title('Deseasonalized', fontsize=16)\n",
    "plt.plot()"
   ]
  },
  {
   "cell_type": "markdown",
   "metadata": {},
   "source": [
    "# Outlier Detection by IQR"
   ]
  },
  {
   "cell_type": "code",
   "execution_count": 89,
   "metadata": {
    "execution": {
     "iopub.execute_input": "2022-02-22T17:42:00.992176Z",
     "iopub.status.busy": "2022-02-22T17:42:00.991854Z",
     "iopub.status.idle": "2022-02-22T17:42:01.802430Z",
     "shell.execute_reply": "2022-02-22T17:42:01.801753Z",
     "shell.execute_reply.started": "2022-02-22T17:42:00.992133Z"
    }
   },
   "outputs": [],
   "source": [
    "sales_data.describe()"
   ]
  },
  {
   "cell_type": "code",
   "execution_count": 90,
   "metadata": {
    "execution": {
     "iopub.execute_input": "2022-02-22T17:42:01.803951Z",
     "iopub.status.busy": "2022-02-22T17:42:01.803388Z",
     "iopub.status.idle": "2022-02-22T17:42:02.905293Z",
     "shell.execute_reply": "2022-02-22T17:42:02.904450Z",
     "shell.execute_reply.started": "2022-02-22T17:42:01.803918Z"
    }
   },
   "outputs": [],
   "source": [
    "y=sorted(sales_data['Sales_per_item'])"
   ]
  },
  {
   "cell_type": "code",
   "execution_count": 91,
   "metadata": {
    "execution": {
     "iopub.execute_input": "2022-02-22T17:42:02.907001Z",
     "iopub.status.busy": "2022-02-22T17:42:02.906517Z",
     "iopub.status.idle": "2022-02-22T17:42:02.977196Z",
     "shell.execute_reply": "2022-02-22T17:42:02.976231Z",
     "shell.execute_reply.started": "2022-02-22T17:42:02.906961Z"
    }
   },
   "outputs": [],
   "source": [
    "q1,q3=np.percentile(sales_data['Sales_per_item'],[25,75])\n",
    "print(q1)\n",
    "print(q3)"
   ]
  },
  {
   "cell_type": "code",
   "execution_count": 92,
   "metadata": {
    "execution": {
     "iopub.execute_input": "2022-02-22T17:42:02.978966Z",
     "iopub.status.busy": "2022-02-22T17:42:02.978685Z",
     "iopub.status.idle": "2022-02-22T17:42:02.983621Z",
     "shell.execute_reply": "2022-02-22T17:42:02.982829Z",
     "shell.execute_reply.started": "2022-02-22T17:42:02.978933Z"
    }
   },
   "outputs": [],
   "source": [
    "IQR=q3-q1\n",
    "print(IQR)"
   ]
  },
  {
   "cell_type": "code",
   "execution_count": 93,
   "metadata": {
    "execution": {
     "iopub.execute_input": "2022-02-22T17:42:02.985169Z",
     "iopub.status.busy": "2022-02-22T17:42:02.984919Z",
     "iopub.status.idle": "2022-02-22T17:42:03.008508Z",
     "shell.execute_reply": "2022-02-22T17:42:03.007679Z",
     "shell.execute_reply.started": "2022-02-22T17:42:02.985140Z"
    }
   },
   "outputs": [],
   "source": [
    "low_value=q1-(1.5*IQR)\n",
    "high_value=q3+(1.5*IQR)\n",
    "\n",
    "print(low_value, high_value)"
   ]
  },
  {
   "cell_type": "code",
   "execution_count": 94,
   "metadata": {
    "execution": {
     "iopub.execute_input": "2022-02-22T17:42:03.010105Z",
     "iopub.status.busy": "2022-02-22T17:42:03.009667Z",
     "iopub.status.idle": "2022-02-22T17:42:03.266093Z",
     "shell.execute_reply": "2022-02-22T17:42:03.264837Z",
     "shell.execute_reply.started": "2022-02-22T17:42:03.010049Z"
    }
   },
   "outputs": [],
   "source": [
    "sales_data[(sales_data.Sales_per_item<low_value)|(sales_data.Sales_per_item>high_value)]"
   ]
  },
  {
   "cell_type": "markdown",
   "metadata": {},
   "source": [
    "# Outlier Removal"
   ]
  },
  {
   "cell_type": "code",
   "execution_count": 95,
   "metadata": {
    "execution": {
     "iopub.execute_input": "2022-02-22T17:42:03.270836Z",
     "iopub.status.busy": "2022-02-22T17:42:03.267874Z",
     "iopub.status.idle": "2022-02-22T17:42:03.440528Z",
     "shell.execute_reply": "2022-02-22T17:42:03.439233Z",
     "shell.execute_reply.started": "2022-02-22T17:42:03.270775Z"
    }
   },
   "outputs": [],
   "source": [
    "New_sales_data=sales_data[(sales_data.Sales_per_item>low_value)&(sales_data.Sales_per_item<high_value)]"
   ]
  },
  {
   "cell_type": "code",
   "execution_count": 96,
   "metadata": {
    "execution": {
     "iopub.execute_input": "2022-02-22T17:42:03.443286Z",
     "iopub.status.busy": "2022-02-22T17:42:03.443005Z",
     "iopub.status.idle": "2022-02-22T17:42:03.476893Z",
     "shell.execute_reply": "2022-02-22T17:42:03.475798Z",
     "shell.execute_reply.started": "2022-02-22T17:42:03.443240Z"
    }
   },
   "outputs": [],
   "source": [
    "New_sales_data"
   ]
  },
  {
   "cell_type": "code",
   "execution_count": 97,
   "metadata": {
    "execution": {
     "iopub.execute_input": "2022-02-22T17:42:03.481514Z",
     "iopub.status.busy": "2022-02-22T17:42:03.478370Z",
     "iopub.status.idle": "2022-02-22T17:42:03.486723Z",
     "shell.execute_reply": "2022-02-22T17:42:03.486009Z",
     "shell.execute_reply.started": "2022-02-22T17:42:03.481468Z"
    }
   },
   "outputs": [],
   "source": [
    "print(\"Old_data:\",sales_data.shape)\n",
    "print(\"New_data:\",New_sales_data.shape)"
   ]
  },
  {
   "cell_type": "code",
   "execution_count": 98,
   "metadata": {
    "execution": {
     "iopub.execute_input": "2022-02-22T17:42:03.488655Z",
     "iopub.status.busy": "2022-02-22T17:42:03.487833Z",
     "iopub.status.idle": "2022-02-22T17:42:03.623375Z",
     "shell.execute_reply": "2022-02-22T17:42:03.622471Z",
     "shell.execute_reply.started": "2022-02-22T17:42:03.488608Z"
    }
   },
   "outputs": [],
   "source": [
    "New_sales_data.drop(['item_category_id'], axis=1)"
   ]
  },
  {
   "cell_type": "code",
   "execution_count": 99,
   "metadata": {
    "execution": {
     "iopub.execute_input": "2022-02-22T17:42:03.625632Z",
     "iopub.status.busy": "2022-02-22T17:42:03.624730Z",
     "iopub.status.idle": "2022-02-22T17:42:06.394123Z",
     "shell.execute_reply": "2022-02-22T17:42:06.393294Z",
     "shell.execute_reply.started": "2022-02-22T17:42:03.625583Z"
    }
   },
   "outputs": [],
   "source": [
    "lag_list = [1, 2, 3]\n",
    "\n",
    "for lag in lag_list:\n",
    "    ft_name = ('item_cnt_shifted%s' % lag)\n",
    "    New_sales_data[ft_name] = New_sales_data.sort_values('date_block_num').groupby(['shop_id', 'item_category_id', 'item_id'])['item_cnt_day'].shift(lag)\n",
    "\n",
    "    New_sales_data[ft_name].fillna(0, inplace=True)\n",
    "    New_sales_data['item_category_id'].fillna(0, inplace=True)\n",
    "    \n",
    "New_sales_data"
   ]
  },
  {
   "cell_type": "code",
   "execution_count": 100,
   "metadata": {
    "execution": {
     "iopub.execute_input": "2022-02-22T17:42:06.396228Z",
     "iopub.status.busy": "2022-02-22T17:42:06.395612Z",
     "iopub.status.idle": "2022-02-22T17:42:06.675113Z",
     "shell.execute_reply": "2022-02-22T17:42:06.674336Z",
     "shell.execute_reply.started": "2022-02-22T17:42:06.396179Z"
    }
   },
   "outputs": [],
   "source": [
    "New_sales_data=New_sales_data.rename(columns={'item_cnt_day':'item_cnt_month'})\n",
    "New_sales_data"
   ]
  },
  {
   "cell_type": "code",
   "execution_count": 101,
   "metadata": {
    "execution": {
     "iopub.execute_input": "2022-02-22T17:42:06.676998Z",
     "iopub.status.busy": "2022-02-22T17:42:06.676347Z",
     "iopub.status.idle": "2022-02-22T17:42:06.692731Z",
     "shell.execute_reply": "2022-02-22T17:42:06.691610Z",
     "shell.execute_reply.started": "2022-02-22T17:42:06.676962Z"
    }
   },
   "outputs": [],
   "source": [
    "New_sales_data.head().T"
   ]
  },
  {
   "cell_type": "code",
   "execution_count": 102,
   "metadata": {
    "execution": {
     "iopub.execute_input": "2022-02-22T17:42:06.694776Z",
     "iopub.status.busy": "2022-02-22T17:42:06.694453Z",
     "iopub.status.idle": "2022-02-22T17:42:06.764121Z",
     "shell.execute_reply": "2022-02-22T17:42:06.763152Z",
     "shell.execute_reply.started": "2022-02-22T17:42:06.694733Z"
    }
   },
   "outputs": [],
   "source": [
    "train_df=New_sales_data[['shop_id','item_id','date_block_num','Sales_per_item','item_cnt_month','item_cnt_shifted3','item_cnt_shifted2']]\n",
    "train_df"
   ]
  },
  {
   "cell_type": "code",
   "execution_count": 103,
   "metadata": {
    "execution": {
     "iopub.execute_input": "2022-02-22T17:42:06.766475Z",
     "iopub.status.busy": "2022-02-22T17:42:06.765687Z",
     "iopub.status.idle": "2022-02-22T17:42:11.395337Z",
     "shell.execute_reply": "2022-02-22T17:42:11.394408Z",
     "shell.execute_reply.started": "2022-02-22T17:42:06.766425Z"
    }
   },
   "outputs": [],
   "source": [
    "dataset=pd.merge(test_data,train_df, on=['shop_id','item_id'], how='left')\n",
    "print(dataset)\n",
    "test_dataset=dataset.drop(['ID','item_cnt_month','Sales_per_item','item_cnt_shifted3','item_cnt_shifted2'], axis=1).fillna(34)\n",
    "test_dataset[test_dataset['date_block_num']==34]\n",
    "\n",
    "co1=dataset[\"Sales_per_item\"]\n",
    "co2=dataset[\"item_cnt_shifted3\"]\n",
    "co3=dataset[\"item_cnt_shifted2\"]\n",
    "co4=dataset['ID']\n",
    "\n",
    "\n",
    "test_dataset=test_dataset.join(co1)\n",
    "test_dataset=test_dataset.join(co2)\n",
    "test_dataset=test_dataset.join(co3)\n",
    "test_dataset=test_dataset.join(co4)\n",
    "\n",
    "\n",
    "for shop_id in test_dataset['shop_id'].unique(): \n",
    "    for column in test_dataset.columns: \n",
    "        shop_median = test_dataset[(test_dataset['shop_id'] == shop_id)][column].median()\n",
    "        test_dataset.loc[(test_dataset[column].isnull()) & (test_dataset['shop_id'] == shop_id), column] = shop_median\n",
    "        \n",
    "unseen_data=test_dataset[test_dataset['date_block_num']==34]"
   ]
  },
  {
   "cell_type": "code",
   "execution_count": 104,
   "metadata": {
    "execution": {
     "iopub.execute_input": "2022-02-22T17:42:11.396579Z",
     "iopub.status.busy": "2022-02-22T17:42:11.396380Z",
     "iopub.status.idle": "2022-02-22T17:42:11.422460Z",
     "shell.execute_reply": "2022-02-22T17:42:11.421596Z",
     "shell.execute_reply.started": "2022-02-22T17:42:11.396554Z"
    }
   },
   "outputs": [],
   "source": [
    "unseen_data"
   ]
  },
  {
   "cell_type": "code",
   "execution_count": 105,
   "metadata": {
    "execution": {
     "iopub.execute_input": "2022-02-22T17:42:11.423957Z",
     "iopub.status.busy": "2022-02-22T17:42:11.423717Z",
     "iopub.status.idle": "2022-02-22T17:42:11.447711Z",
     "shell.execute_reply": "2022-02-22T17:42:11.446843Z",
     "shell.execute_reply.started": "2022-02-22T17:42:11.423929Z"
    }
   },
   "outputs": [],
   "source": [
    "test_data=unseen_data.drop(['ID'], axis=1)\n",
    "test_data"
   ]
  },
  {
   "cell_type": "code",
   "execution_count": 106,
   "metadata": {
    "execution": {
     "iopub.execute_input": "2022-02-22T17:42:11.449794Z",
     "iopub.status.busy": "2022-02-22T17:42:11.449302Z",
     "iopub.status.idle": "2022-02-22T17:42:11.633016Z",
     "shell.execute_reply": "2022-02-22T17:42:11.632298Z",
     "shell.execute_reply.started": "2022-02-22T17:42:11.449749Z"
    }
   },
   "outputs": [],
   "source": [
    "X = train_df.drop('item_cnt_month',axis='columns')\n",
    "y = train_df.item_cnt_month\n"
   ]
  },
  {
   "cell_type": "markdown",
   "metadata": {},
   "source": [
    "# Modelling"
   ]
  },
  {
   "cell_type": "markdown",
   "metadata": {},
   "source": [
    "# Random Forest"
   ]
  },
  {
   "cell_type": "code",
   "execution_count": 107,
   "metadata": {
    "execution": {
     "iopub.execute_input": "2022-02-22T17:42:11.634626Z",
     "iopub.status.busy": "2022-02-22T17:42:11.634198Z",
     "iopub.status.idle": "2022-02-22T17:42:12.315159Z",
     "shell.execute_reply": "2022-02-22T17:42:12.314126Z",
     "shell.execute_reply.started": "2022-02-22T17:42:11.634584Z"
    }
   },
   "outputs": [],
   "source": [
    "from sklearn.model_selection import train_test_split\n",
    "X_train, X_Valid, y_train, y_Valid = train_test_split(X,y,test_size=0.2, random_state=49)"
   ]
  },
  {
   "cell_type": "markdown",
   "metadata": {},
   "source": [
    "# Randomized search CV"
   ]
  },
  {
   "cell_type": "code",
   "execution_count": 108,
   "metadata": {
    "execution": {
     "iopub.execute_input": "2022-02-22T17:42:12.316997Z",
     "iopub.status.busy": "2022-02-22T17:42:12.316657Z",
     "iopub.status.idle": "2022-02-22T17:42:12.517224Z",
     "shell.execute_reply": "2022-02-22T17:42:12.516546Z",
     "shell.execute_reply.started": "2022-02-22T17:42:12.316952Z"
    }
   },
   "outputs": [],
   "source": [
    "from sklearn.ensemble import RandomForestRegressor\n",
    "from sklearn.metrics import mean_squared_error\n",
    "model = RandomForestRegressor()\n",
    "\n",
    "from sklearn.model_selection import RandomizedSearchCV"
   ]
  },
  {
   "cell_type": "code",
   "execution_count": 109,
   "metadata": {
    "execution": {
     "iopub.execute_input": "2022-02-22T17:42:12.519424Z",
     "iopub.status.busy": "2022-02-22T17:42:12.518423Z",
     "iopub.status.idle": "2022-02-22T17:42:12.525456Z",
     "shell.execute_reply": "2022-02-22T17:42:12.524256Z",
     "shell.execute_reply.started": "2022-02-22T17:42:12.519372Z"
    }
   },
   "outputs": [],
   "source": [
    "para={\n",
    "    \"n_estimators\": [40,60,80],\n",
    "    \"min_samples_split\": [2,5,10],\n",
    "    \"max_depth\": [8,10,12],\n",
    "    \"min_samples_leaf\": [1,2,4],\n",
    "}"
   ]
  },
  {
   "cell_type": "code",
   "execution_count": 110,
   "metadata": {
    "execution": {
     "iopub.execute_input": "2022-02-22T17:42:12.527495Z",
     "iopub.status.busy": "2022-02-22T17:42:12.526803Z",
     "iopub.status.idle": "2022-02-22T17:42:12.538313Z",
     "shell.execute_reply": "2022-02-22T17:42:12.537347Z",
     "shell.execute_reply.started": "2022-02-22T17:42:12.527444Z"
    }
   },
   "outputs": [],
   "source": [
    "# search=RandomizedSearchCV(estimator=model,param_distributions=para,n_iter=5,cv=5,verbose=5, n_jobs=-1)\n",
    "# search.fit(X_train, y_train)"
   ]
  },
  {
   "cell_type": "code",
   "execution_count": 111,
   "metadata": {
    "execution": {
     "iopub.execute_input": "2022-02-22T17:42:12.539988Z",
     "iopub.status.busy": "2022-02-22T17:42:12.539621Z",
     "iopub.status.idle": "2022-02-22T17:42:12.551647Z",
     "shell.execute_reply": "2022-02-22T17:42:12.550717Z",
     "shell.execute_reply.started": "2022-02-22T17:42:12.539910Z"
    }
   },
   "outputs": [],
   "source": [
    "# search.best_params_"
   ]
  },
  {
   "cell_type": "code",
   "execution_count": 112,
   "metadata": {
    "execution": {
     "iopub.execute_input": "2022-02-22T17:42:12.553363Z",
     "iopub.status.busy": "2022-02-22T17:42:12.553045Z",
     "iopub.status.idle": "2022-02-22T17:50:11.784008Z",
     "shell.execute_reply": "2022-02-22T17:50:11.783126Z",
     "shell.execute_reply.started": "2022-02-22T17:42:12.553328Z"
    }
   },
   "outputs": [],
   "source": [
    "model = RandomForestRegressor(n_estimators=80,min_samples_split=2,min_samples_leaf=1,max_depth=10 )\n",
    "model.fit(X_train, y_train)"
   ]
  },
  {
   "cell_type": "code",
   "execution_count": 113,
   "metadata": {
    "execution": {
     "iopub.execute_input": "2022-02-22T17:50:11.785926Z",
     "iopub.status.busy": "2022-02-22T17:50:11.785409Z",
     "iopub.status.idle": "2022-02-22T17:50:22.566636Z",
     "shell.execute_reply": "2022-02-22T17:50:22.565732Z",
     "shell.execute_reply.started": "2022-02-22T17:50:11.785888Z"
    }
   },
   "outputs": [],
   "source": [
    "train_pred = model.predict(X_train)\n",
    "Valid_pred = model.predict(X_Valid)\n",
    "test_pred=model.predict(test_data)"
   ]
  },
  {
   "cell_type": "code",
   "execution_count": 114,
   "metadata": {
    "execution": {
     "iopub.execute_input": "2022-02-22T17:50:22.568348Z",
     "iopub.status.busy": "2022-02-22T17:50:22.568106Z",
     "iopub.status.idle": "2022-02-22T17:50:22.589576Z",
     "shell.execute_reply": "2022-02-22T17:50:22.588534Z",
     "shell.execute_reply.started": "2022-02-22T17:50:22.568319Z"
    }
   },
   "outputs": [],
   "source": [
    "print('Train rmse:', np.sqrt(mean_squared_error(y_train, train_pred)))\n",
    "print('Test rmse:', np.sqrt(mean_squared_error(y_Valid, Valid_pred)))"
   ]
  },
  {
   "cell_type": "code",
   "execution_count": 115,
   "metadata": {
    "execution": {
     "iopub.execute_input": "2022-02-22T17:50:22.591433Z",
     "iopub.status.busy": "2022-02-22T17:50:22.590879Z",
     "iopub.status.idle": "2022-02-22T17:50:22.648954Z",
     "shell.execute_reply": "2022-02-22T17:50:22.647918Z",
     "shell.execute_reply.started": "2022-02-22T17:50:22.591390Z"
    }
   },
   "outputs": [],
   "source": [
    "U= train_df.drop('item_cnt_month',axis='columns')\n",
    "V= train_df.item_cnt_month"
   ]
  },
  {
   "cell_type": "code",
   "execution_count": 116,
   "metadata": {
    "execution": {
     "iopub.execute_input": "2022-02-22T17:50:22.650560Z",
     "iopub.status.busy": "2022-02-22T17:50:22.650248Z",
     "iopub.status.idle": "2022-02-22T17:50:23.151876Z",
     "shell.execute_reply": "2022-02-22T17:50:23.151023Z",
     "shell.execute_reply.started": "2022-02-22T17:50:22.650527Z"
    }
   },
   "outputs": [],
   "source": [
    "from sklearn.model_selection import train_test_split\n",
    "U_train, U_valid, V_train, V_valid = train_test_split(U,V,test_size=0.2,random_state=50)"
   ]
  },
  {
   "cell_type": "markdown",
   "metadata": {},
   "source": [
    "# Hyperpaarameter Tuning by Randomized CV"
   ]
  },
  {
   "cell_type": "code",
   "execution_count": 117,
   "metadata": {
    "execution": {
     "iopub.execute_input": "2022-02-22T17:50:23.153486Z",
     "iopub.status.busy": "2022-02-22T17:50:23.153147Z",
     "iopub.status.idle": "2022-02-22T17:50:23.160914Z",
     "shell.execute_reply": "2022-02-22T17:50:23.159704Z",
     "shell.execute_reply.started": "2022-02-22T17:50:23.153447Z"
    }
   },
   "outputs": [],
   "source": [
    "params={\n",
    " \"learning_rate\"    : [0.10, 0.20, 0.30 ] ,\n",
    " \"max_depth\"        : [ 10, 12, 15],\n",
    " \"min_child_weight\" : [ 3,5, 7 ],\n",
    " \"subsample\"        : [0.2, 0.4, 0.6],\n",
    " \"gamma\"            : [ 0.3, 0.4, 0.5 ],\n",
    "}"
   ]
  },
  {
   "cell_type": "code",
   "execution_count": 118,
   "metadata": {
    "execution": {
     "iopub.execute_input": "2022-02-22T17:50:23.162996Z",
     "iopub.status.busy": "2022-02-22T17:50:23.162643Z",
     "iopub.status.idle": "2022-02-22T17:50:23.297841Z",
     "shell.execute_reply": "2022-02-22T17:50:23.296963Z",
     "shell.execute_reply.started": "2022-02-22T17:50:23.162951Z"
    }
   },
   "outputs": [],
   "source": [
    "from xgboost import XGBRegressor\n",
    "from xgboost import plot_importance\n",
    "Xg_model=XGBRegressor()"
   ]
  },
  {
   "cell_type": "code",
   "execution_count": 119,
   "metadata": {
    "execution": {
     "iopub.execute_input": "2022-02-22T17:50:23.299673Z",
     "iopub.status.busy": "2022-02-22T17:50:23.299309Z",
     "iopub.status.idle": "2022-02-22T17:50:23.303566Z",
     "shell.execute_reply": "2022-02-22T17:50:23.302947Z",
     "shell.execute_reply.started": "2022-02-22T17:50:23.299642Z"
    }
   },
   "outputs": [],
   "source": [
    "from sklearn.model_selection import RandomizedSearchCV"
   ]
  },
  {
   "cell_type": "code",
   "execution_count": 120,
   "metadata": {
    "execution": {
     "iopub.execute_input": "2022-02-22T17:50:23.305815Z",
     "iopub.status.busy": "2022-02-22T17:50:23.305193Z",
     "iopub.status.idle": "2022-02-22T17:50:23.317174Z",
     "shell.execute_reply": "2022-02-22T17:50:23.316355Z",
     "shell.execute_reply.started": "2022-02-22T17:50:23.305773Z"
    }
   },
   "outputs": [],
   "source": [
    "# random_search=RandomizedSearchCV(estimator=Xg_model,param_distributions=params,n_iter=5,cv=5,verbose=3)\n",
    "# random_search.fit(U_train, V_train)"
   ]
  },
  {
   "cell_type": "code",
   "execution_count": 121,
   "metadata": {
    "execution": {
     "iopub.execute_input": "2022-02-22T17:50:23.319110Z",
     "iopub.status.busy": "2022-02-22T17:50:23.318602Z",
     "iopub.status.idle": "2022-02-22T17:50:23.329236Z",
     "shell.execute_reply": "2022-02-22T17:50:23.328405Z",
     "shell.execute_reply.started": "2022-02-22T17:50:23.319074Z"
    }
   },
   "outputs": [],
   "source": [
    "# random_search.best_params_"
   ]
  },
  {
   "cell_type": "markdown",
   "metadata": {},
   "source": [
    "# XGBoost"
   ]
  },
  {
   "cell_type": "code",
   "execution_count": 122,
   "metadata": {
    "execution": {
     "iopub.execute_input": "2022-02-22T17:50:23.331178Z",
     "iopub.status.busy": "2022-02-22T17:50:23.330697Z",
     "iopub.status.idle": "2022-02-22T17:53:25.921157Z",
     "shell.execute_reply": "2022-02-22T17:53:25.920305Z",
     "shell.execute_reply.started": "2022-02-22T17:50:23.331143Z"
    }
   },
   "outputs": [],
   "source": [
    "Xg_model=XGBRegressor(subsample=0.6,min_child_weight=5,max_depth=10,learning_rate=0.3, gamma=0.4)\n",
    "Xg_model.fit(U_train, V_train)"
   ]
  },
  {
   "cell_type": "code",
   "execution_count": 123,
   "metadata": {
    "execution": {
     "iopub.execute_input": "2022-02-22T17:53:25.922620Z",
     "iopub.status.busy": "2022-02-22T17:53:25.922413Z",
     "iopub.status.idle": "2022-02-22T17:53:30.890726Z",
     "shell.execute_reply": "2022-02-22T17:53:30.890013Z",
     "shell.execute_reply.started": "2022-02-22T17:53:25.922594Z"
    }
   },
   "outputs": [],
   "source": [
    "Xg_train_pred=Xg_model.predict(U_train)\n",
    "Xg_Valid_pred=Xg_model.predict(U_valid)\n",
    "Xg_test_pred=Xg_model.predict(test_data)"
   ]
  },
  {
   "cell_type": "code",
   "execution_count": 124,
   "metadata": {
    "execution": {
     "iopub.execute_input": "2022-02-22T17:53:30.892372Z",
     "iopub.status.busy": "2022-02-22T17:53:30.891999Z",
     "iopub.status.idle": "2022-02-22T17:53:30.898430Z",
     "shell.execute_reply": "2022-02-22T17:53:30.897620Z",
     "shell.execute_reply.started": "2022-02-22T17:53:30.892340Z"
    }
   },
   "outputs": [],
   "source": [
    "from sklearn.metrics import mean_squared_error"
   ]
  },
  {
   "cell_type": "code",
   "execution_count": 125,
   "metadata": {
    "execution": {
     "iopub.execute_input": "2022-02-22T17:53:30.900641Z",
     "iopub.status.busy": "2022-02-22T17:53:30.899893Z",
     "iopub.status.idle": "2022-02-22T17:53:30.927165Z",
     "shell.execute_reply": "2022-02-22T17:53:30.926257Z",
     "shell.execute_reply.started": "2022-02-22T17:53:30.900603Z"
    }
   },
   "outputs": [],
   "source": [
    "print('Train rmse:', np.sqrt(mean_squared_error(V_train, Xg_train_pred)))\n",
    "print('Test rmse:', np.sqrt(mean_squared_error(V_valid, Xg_Valid_pred)))"
   ]
  },
  {
   "cell_type": "code",
   "execution_count": 126,
   "metadata": {
    "execution": {
     "iopub.execute_input": "2022-02-22T17:53:30.928712Z",
     "iopub.status.busy": "2022-02-22T17:53:30.928473Z",
     "iopub.status.idle": "2022-02-22T17:53:31.111194Z",
     "shell.execute_reply": "2022-02-22T17:53:31.110245Z",
     "shell.execute_reply.started": "2022-02-22T17:53:30.928683Z"
    }
   },
   "outputs": [],
   "source": [
    "plt.rcParams[\"figure.figsize\"] = (15, 6)\n",
    "plot_importance(Xg_model)\n",
    "plt.show()"
   ]
  },
  {
   "cell_type": "code",
   "execution_count": 127,
   "metadata": {
    "execution": {
     "iopub.execute_input": "2022-02-22T17:53:31.112715Z",
     "iopub.status.busy": "2022-02-22T17:53:31.112495Z",
     "iopub.status.idle": "2022-02-22T17:53:31.132316Z",
     "shell.execute_reply": "2022-02-22T17:53:31.131608Z",
     "shell.execute_reply.started": "2022-02-22T17:53:31.112688Z"
    }
   },
   "outputs": [],
   "source": [
    "DF=pd.DataFrame(unseen_data['ID'], columns=['ID'])\n",
    "DF['RF']=test_pred\n",
    "DF['Xg']=Xg_test_pred\n",
    "DF"
   ]
  },
  {
   "cell_type": "code",
   "execution_count": 129,
   "metadata": {
    "execution": {
     "iopub.execute_input": "2022-02-22T17:57:36.909990Z",
     "iopub.status.busy": "2022-02-22T17:57:36.909674Z",
     "iopub.status.idle": "2022-02-22T17:57:36.980508Z",
     "shell.execute_reply": "2022-02-22T17:57:36.979597Z",
     "shell.execute_reply.started": "2022-02-22T17:57:36.909959Z"
    }
   },
   "outputs": [],
   "source": [
    "import pickle\n",
    "pickle.dump(Xg_model, open('./model.sav', 'wb'))"
   ]
  }
 ],
 "metadata": {
  "kernelspec": {
   "display_name": "Python 3",
   "language": "python",
   "name": "python3"
  },
  "language_info": {
   "codemirror_mode": {
    "name": "ipython",
    "version": 3
   },
   "file_extension": ".py",
   "mimetype": "text/x-python",
   "name": "python",
   "nbconvert_exporter": "python",
   "pygments_lexer": "ipython3",
   "version": "3.8.5"
  }
 },
 "nbformat": 4,
 "nbformat_minor": 4
}
